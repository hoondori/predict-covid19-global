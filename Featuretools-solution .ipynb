{
 "cells": [
  {
   "cell_type": "markdown",
   "metadata": {},
   "source": [
    "# Featuretools Solution for Predicting Covid Global Forcast\n",
    "<p><c>\n",
    "    <img src=\"images/corona.png\" alt=\"corona\" width=200/>\n",
    "</c></p>\n",
    "\n",
    "글로벌 코로나 바이러스의 누적 확잔수와 사망자수의 예측 문제를 featuretools를 이용해서 풀어보기로 한다. \n",
    "\n",
    "원래는 featuretools는 기 정규화된 관계형 테이블을 입력으로 바로 작업이 가능하지만, featuretools의 entity set 생성 기능을 예시로 보이기 위해 역졍규화를 한 데이터를 입력으로 준비한다."
   ]
  },
  {
   "cell_type": "code",
   "execution_count": 1,
   "metadata": {},
   "outputs": [],
   "source": [
    "import pandas as pd\n",
    "import numpy as np\n",
    "import featuretools as ft\n",
    "from collections import defaultdict\n",
    "from sklearn.metrics import roc_auc_score\n",
    "from featuretools.primitives import Count, Mean\n",
    "import os\n",
    "import utils\n",
    "%matplotlib inline"
   ]
  },
  {
   "cell_type": "markdown",
   "metadata": {},
   "source": [
    "# 역정규화 데이터 준비"
   ]
  },
  {
   "cell_type": "code",
   "execution_count": 2,
   "metadata": {
    "code_folding": [
     8
    ]
   },
   "outputs": [
    {
     "data": {
      "text/html": [
       "<div>\n",
       "<style scoped>\n",
       "    .dataframe tbody tr th:only-of-type {\n",
       "        vertical-align: middle;\n",
       "    }\n",
       "\n",
       "    .dataframe tbody tr th {\n",
       "        vertical-align: top;\n",
       "    }\n",
       "\n",
       "    .dataframe thead th {\n",
       "        text-align: right;\n",
       "    }\n",
       "</style>\n",
       "<table border=\"1\" class=\"dataframe\">\n",
       "  <thead>\n",
       "    <tr style=\"text-align: right;\">\n",
       "      <th></th>\n",
       "      <th>record_id</th>\n",
       "      <th>country</th>\n",
       "      <th>lat</th>\n",
       "      <th>long</th>\n",
       "      <th>confirmed</th>\n",
       "      <th>deaths</th>\n",
       "      <th>population</th>\n",
       "      <th>density</th>\n",
       "      <th>fertility</th>\n",
       "      <th>age</th>\n",
       "      <th>urban_percentage</th>\n",
       "      <th>humidity</th>\n",
       "      <th>sunHour</th>\n",
       "      <th>tempC</th>\n",
       "      <th>windspeedKmph</th>\n",
       "      <th>icu</th>\n",
       "    </tr>\n",
       "  </thead>\n",
       "  <tbody>\n",
       "    <tr>\n",
       "      <th>1206</th>\n",
       "      <td>4378</td>\n",
       "      <td>China</td>\n",
       "      <td>31.8257</td>\n",
       "      <td>117.2264</td>\n",
       "      <td>106.0</td>\n",
       "      <td>0.0</td>\n",
       "      <td>1439323776</td>\n",
       "      <td>153</td>\n",
       "      <td>1.7</td>\n",
       "      <td>38.0</td>\n",
       "      <td>0.61</td>\n",
       "      <td>54.0</td>\n",
       "      <td>5.4</td>\n",
       "      <td>5.0</td>\n",
       "      <td>3.0</td>\n",
       "      <td>4.2</td>\n",
       "    </tr>\n",
       "    <tr>\n",
       "      <th>1207</th>\n",
       "      <td>4379</td>\n",
       "      <td>China</td>\n",
       "      <td>31.8257</td>\n",
       "      <td>117.2264</td>\n",
       "      <td>152.0</td>\n",
       "      <td>0.0</td>\n",
       "      <td>1439323776</td>\n",
       "      <td>153</td>\n",
       "      <td>1.7</td>\n",
       "      <td>38.0</td>\n",
       "      <td>0.61</td>\n",
       "      <td>49.0</td>\n",
       "      <td>8.7</td>\n",
       "      <td>7.0</td>\n",
       "      <td>2.0</td>\n",
       "      <td>4.2</td>\n",
       "    </tr>\n",
       "    <tr>\n",
       "      <th>1208</th>\n",
       "      <td>4380</td>\n",
       "      <td>China</td>\n",
       "      <td>31.8257</td>\n",
       "      <td>117.2264</td>\n",
       "      <td>200.0</td>\n",
       "      <td>0.0</td>\n",
       "      <td>1439323776</td>\n",
       "      <td>153</td>\n",
       "      <td>1.7</td>\n",
       "      <td>38.0</td>\n",
       "      <td>0.61</td>\n",
       "      <td>45.0</td>\n",
       "      <td>8.7</td>\n",
       "      <td>10.0</td>\n",
       "      <td>2.0</td>\n",
       "      <td>4.2</td>\n",
       "    </tr>\n",
       "    <tr>\n",
       "      <th>1209</th>\n",
       "      <td>4381</td>\n",
       "      <td>China</td>\n",
       "      <td>31.8257</td>\n",
       "      <td>117.2264</td>\n",
       "      <td>237.0</td>\n",
       "      <td>0.0</td>\n",
       "      <td>1439323776</td>\n",
       "      <td>153</td>\n",
       "      <td>1.7</td>\n",
       "      <td>38.0</td>\n",
       "      <td>0.61</td>\n",
       "      <td>37.0</td>\n",
       "      <td>8.7</td>\n",
       "      <td>11.0</td>\n",
       "      <td>8.0</td>\n",
       "      <td>4.2</td>\n",
       "    </tr>\n",
       "    <tr>\n",
       "      <th>1210</th>\n",
       "      <td>4382</td>\n",
       "      <td>China</td>\n",
       "      <td>31.8257</td>\n",
       "      <td>117.2264</td>\n",
       "      <td>297.0</td>\n",
       "      <td>0.0</td>\n",
       "      <td>1439323776</td>\n",
       "      <td>153</td>\n",
       "      <td>1.7</td>\n",
       "      <td>38.0</td>\n",
       "      <td>0.61</td>\n",
       "      <td>23.0</td>\n",
       "      <td>7.1</td>\n",
       "      <td>4.0</td>\n",
       "      <td>9.0</td>\n",
       "      <td>4.2</td>\n",
       "    </tr>\n",
       "  </tbody>\n",
       "</table>\n",
       "</div>"
      ],
      "text/plain": [
       "      record_id country      lat      long  confirmed  deaths  population  \\\n",
       "1206       4378   China  31.8257  117.2264      106.0     0.0  1439323776   \n",
       "1207       4379   China  31.8257  117.2264      152.0     0.0  1439323776   \n",
       "1208       4380   China  31.8257  117.2264      200.0     0.0  1439323776   \n",
       "1209       4381   China  31.8257  117.2264      237.0     0.0  1439323776   \n",
       "1210       4382   China  31.8257  117.2264      297.0     0.0  1439323776   \n",
       "\n",
       "      density  fertility   age  urban_percentage  humidity  sunHour  tempC  \\\n",
       "1206      153        1.7  38.0              0.61      54.0      5.4    5.0   \n",
       "1207      153        1.7  38.0              0.61      49.0      8.7    7.0   \n",
       "1208      153        1.7  38.0              0.61      45.0      8.7   10.0   \n",
       "1209      153        1.7  38.0              0.61      37.0      8.7   11.0   \n",
       "1210      153        1.7  38.0              0.61      23.0      7.1    4.0   \n",
       "\n",
       "      windspeedKmph  icu  \n",
       "1206            3.0  4.2  \n",
       "1207            2.0  4.2  \n",
       "1208            2.0  4.2  \n",
       "1209            8.0  4.2  \n",
       "1210            9.0  4.2  "
      ]
     },
     "execution_count": 2,
     "metadata": {},
     "output_type": "execute_result"
    }
   ],
   "source": [
    "data = pd.read_csv('data/train.csv', parse_dates=['Date'], encoding='utf-8')\n",
    "data.rename(columns={'Date': 'date', \n",
    "                     'Province/State':'state', 'Lat': 'lat', 'Long': 'long',\n",
    "                     'Country/Region':'country',\n",
    "                     'ConfirmedCases': 'confirmed',\n",
    "                     'Fatalities':'deaths'\n",
    "                    }, inplace=True)\n",
    "\n",
    "\n",
    "# 나라 통계 정보와 결합 \n",
    "countries_df = utils.get_country_df()\n",
    "data = pd.merge(data, countries_df, on='country')\n",
    "\n",
    "# Weather 정보와 결합\n",
    "weather_df = utils.get_weather_df()\n",
    "data = data.merge(weather_df, on=['country','date', 'state'], how='inner')\n",
    "\n",
    "# 천명당 병상수 정보와 결합 \n",
    "icu_df = utils.get_icu_df()\n",
    "data = pd.merge(data, icu_df, on='country')\n",
    "# feature 정리\n",
    "def make_feature(data):     \n",
    "    train_data = data.copy()\n",
    "    threshold = 0.00001\n",
    "    train_data['infectionRate'] = round((train_data['confirmed']/train_data['population'])*100, 5)\n",
    "    train_data = train_data[train_data['infectionRate'] >= threshold]\n",
    "    train_data = train_data.drop([\"infectionRate\",\"state\",\"date\",\"index\"], axis= 1).dropna()\n",
    "    train_data.rename(columns={'Id': 'record_id'}, inplace=True)\n",
    "    \n",
    "    return train_data\n",
    "\n",
    "data = make_feature(data)\n",
    "data[data['country']=='China'].head(5)"
   ]
  },
  {
   "cell_type": "markdown",
   "metadata": {},
   "source": [
    "# entity set 만들기"
   ]
  },
  {
   "cell_type": "markdown",
   "metadata": {},
   "source": [
    "### variable type 정의"
   ]
  },
  {
   "cell_type": "code",
   "execution_count": 3,
   "metadata": {
    "code_folding": []
   },
   "outputs": [],
   "source": [
    "import featuretools.variable_types as vtypes\n",
    "variable_types = {'country': vtypes.Categorical,\n",
    "                  'lat': vtypes.Numeric,\n",
    "                  'long': vtypes.Numeric,\n",
    "                  'confirmed': vtypes.Numeric,\n",
    "                  'deaths': vtypes.Numeric,\n",
    "                  'population': vtypes.Numeric,\n",
    "                  'density': vtypes.Numeric,\n",
    "                  'fertility': vtypes.Numeric,\n",
    "                  'age': vtypes.Ordinal,\n",
    "                  'urban_percentage': vtypes.Numeric,\n",
    "                  'humidity': vtypes.Numeric,\n",
    "                  'sunHour': vtypes.Numeric,\n",
    "                  'tempC': vtypes.Numeric,\n",
    "                  'windspeedKmph': vtypes.Numeric,\n",
    "                  'icu': vtypes.Numeric}"
   ]
  },
  {
   "cell_type": "markdown",
   "metadata": {},
   "source": [
    "### entity set 정의"
   ]
  },
  {
   "cell_type": "code",
   "execution_count": 4,
   "metadata": {},
   "outputs": [
    {
     "data": {
      "text/plain": [
       "Entityset: covid-19\n",
       "  Entities:\n",
       "    records [Rows: 2299, Columns: 4]\n",
       "    countries [Rows: 8, Columns: 8]\n",
       "    weathers [Rows: 8, Columns: 5]\n",
       "    beds [Rows: 8, Columns: 2]\n",
       "  Relationships:\n",
       "    records.country -> countries.country\n",
       "    records.country -> weathers.country\n",
       "    records.country -> beds.country"
      ]
     },
     "execution_count": 4,
     "metadata": {},
     "output_type": "execute_result"
    }
   ],
   "source": [
    "# Make an entity named 'covid-19' which stores dataset metadata with the dataframe\n",
    "es = ft.EntitySet('covid-19')\n",
    "es = es.entity_from_dataframe(\n",
    "    entity_id=\"records\",\n",
    "    dataframe=data,\n",
    "    index='record_id',\n",
    "    #time_index=...,\n",
    "    variable_types=variable_types)\n",
    "\n",
    "es.normalize_entity(\n",
    "    base_entity_id=\"records\",\n",
    "    new_entity_id=\"countries\",\n",
    "    index=\"country\",\n",
    "    make_time_index=False,\n",
    "    additional_variables=['population', 'density', 'fertility', 'age', 'urban_percentage', 'lat', 'long'])\n",
    "\n",
    "es.normalize_entity(\n",
    "    base_entity_id=\"records\",\n",
    "    new_entity_id=\"weathers\",\n",
    "    index=\"country\",\n",
    "    make_time_index=False,\n",
    "    additional_variables=['humidity', 'sunHour', 'tempC', 'windspeedKmph'])\n",
    "\n",
    "es.normalize_entity(\n",
    "    base_entity_id=\"records\",\n",
    "    new_entity_id=\"beds\",\n",
    "    index=\"country\",\n",
    "    make_time_index=False,\n",
    "    additional_variables=['icu'])"
   ]
  },
  {
   "cell_type": "markdown",
   "metadata": {},
   "source": [
    "# Visualize entity set"
   ]
  },
  {
   "cell_type": "code",
   "execution_count": 5,
   "metadata": {},
   "outputs": [
    {
     "data": {
      "image/svg+xml": [
       "<?xml version=\"1.0\" encoding=\"UTF-8\" standalone=\"no\"?>\n",
       "<!DOCTYPE svg PUBLIC \"-//W3C//DTD SVG 1.1//EN\"\n",
       " \"http://www.w3.org/Graphics/SVG/1.1/DTD/svg11.dtd\">\n",
       "<!-- Generated by graphviz version 2.40.1 (20161225.0304)\n",
       " -->\n",
       "<!-- Title: covid&#45;19 Pages: 1 -->\n",
       "<svg width=\"485pt\" height=\"274pt\"\n",
       " viewBox=\"0.00 0.00 484.51 274.00\" xmlns=\"http://www.w3.org/2000/svg\" xmlns:xlink=\"http://www.w3.org/1999/xlink\">\n",
       "<g id=\"graph0\" class=\"graph\" transform=\"scale(1 1) rotate(0) translate(4 270)\">\n",
       "<title>covid&#45;19</title>\n",
       "<polygon fill=\"#ffffff\" stroke=\"transparent\" points=\"-4,4 -4,-270 480.5073,-270 480.5073,4 -4,4\"/>\n",
       "<!-- records -->\n",
       "<g id=\"node1\" class=\"node\">\n",
       "<title>records</title>\n",
       "<polygon fill=\"none\" stroke=\"#000000\" points=\"209.3657,-179.5 209.3657,-265.5 338.8901,-265.5 338.8901,-179.5 209.3657,-179.5\"/>\n",
       "<text text-anchor=\"middle\" x=\"274.1279\" y=\"-250.3\" font-family=\"Times,serif\" font-size=\"14.00\" fill=\"#000000\">records (2299 rows)</text>\n",
       "<polyline fill=\"none\" stroke=\"#000000\" points=\"209.3657,-243.5 338.8901,-243.5 \"/>\n",
       "<text text-anchor=\"start\" x=\"217.3657\" y=\"-228.3\" font-family=\"Times,serif\" font-size=\"14.00\" fill=\"#000000\">record_id : index</text>\n",
       "<text text-anchor=\"start\" x=\"217.3657\" y=\"-214.3\" font-family=\"Times,serif\" font-size=\"14.00\" fill=\"#000000\">country : id</text>\n",
       "<text text-anchor=\"start\" x=\"217.3657\" y=\"-200.3\" font-family=\"Times,serif\" font-size=\"14.00\" fill=\"#000000\">confirmed : numeric</text>\n",
       "<text text-anchor=\"start\" x=\"217.3657\" y=\"-186.3\" font-family=\"Times,serif\" font-size=\"14.00\" fill=\"#000000\">deaths : numeric</text>\n",
       "</g>\n",
       "<!-- countries -->\n",
       "<g id=\"node2\" class=\"node\">\n",
       "<title>countries</title>\n",
       "<polygon fill=\"none\" stroke=\"#000000\" points=\"0,-.5 0,-142.5 172.2559,-142.5 172.2559,-.5 0,-.5\"/>\n",
       "<text text-anchor=\"middle\" x=\"86.1279\" y=\"-127.3\" font-family=\"Times,serif\" font-size=\"14.00\" fill=\"#000000\">countries (8 rows)</text>\n",
       "<polyline fill=\"none\" stroke=\"#000000\" points=\"0,-120.5 172.2559,-120.5 \"/>\n",
       "<text text-anchor=\"start\" x=\"8\" y=\"-105.3\" font-family=\"Times,serif\" font-size=\"14.00\" fill=\"#000000\">country : index</text>\n",
       "<text text-anchor=\"start\" x=\"8\" y=\"-91.3\" font-family=\"Times,serif\" font-size=\"14.00\" fill=\"#000000\">population : numeric</text>\n",
       "<text text-anchor=\"start\" x=\"8\" y=\"-77.3\" font-family=\"Times,serif\" font-size=\"14.00\" fill=\"#000000\">density : numeric</text>\n",
       "<text text-anchor=\"start\" x=\"8\" y=\"-63.3\" font-family=\"Times,serif\" font-size=\"14.00\" fill=\"#000000\">fertility : numeric</text>\n",
       "<text text-anchor=\"start\" x=\"8\" y=\"-49.3\" font-family=\"Times,serif\" font-size=\"14.00\" fill=\"#000000\">age : ordinal</text>\n",
       "<text text-anchor=\"start\" x=\"8\" y=\"-35.3\" font-family=\"Times,serif\" font-size=\"14.00\" fill=\"#000000\">urban_percentage : numeric</text>\n",
       "<text text-anchor=\"start\" x=\"8\" y=\"-21.3\" font-family=\"Times,serif\" font-size=\"14.00\" fill=\"#000000\">lat : numeric</text>\n",
       "<text text-anchor=\"start\" x=\"8\" y=\"-7.3\" font-family=\"Times,serif\" font-size=\"14.00\" fill=\"#000000\">long : numeric</text>\n",
       "</g>\n",
       "<!-- records&#45;&gt;countries -->\n",
       "<g id=\"edge1\" class=\"edge\">\n",
       "<title>records&#45;&gt;countries</title>\n",
       "<path fill=\"none\" stroke=\"#000000\" d=\"M252.5405,-179.3704C252.5405,-156.0612 252.5405,-132 252.5405,-132 252.5405,-132 182.2589,-132 182.2589,-132\"/>\n",
       "<polygon fill=\"#000000\" stroke=\"#000000\" points=\"182.2589,-128.5001 172.2589,-132 182.2589,-135.5001 182.2589,-128.5001\"/>\n",
       "<text text-anchor=\"middle\" x=\"219.7021\" y=\"-134.8\" font-family=\"Times,serif\" font-size=\"14.00\" fill=\"#000000\">country</text>\n",
       "</g>\n",
       "<!-- weathers -->\n",
       "<g id=\"node3\" class=\"node\">\n",
       "<title>weathers</title>\n",
       "<polygon fill=\"none\" stroke=\"#000000\" points=\"190.3105,-21.5 190.3105,-121.5 357.9453,-121.5 357.9453,-21.5 190.3105,-21.5\"/>\n",
       "<text text-anchor=\"middle\" x=\"274.1279\" y=\"-106.3\" font-family=\"Times,serif\" font-size=\"14.00\" fill=\"#000000\">weathers (8 rows)</text>\n",
       "<polyline fill=\"none\" stroke=\"#000000\" points=\"190.3105,-99.5 357.9453,-99.5 \"/>\n",
       "<text text-anchor=\"start\" x=\"198.3105\" y=\"-84.3\" font-family=\"Times,serif\" font-size=\"14.00\" fill=\"#000000\">country : index</text>\n",
       "<text text-anchor=\"start\" x=\"198.3105\" y=\"-70.3\" font-family=\"Times,serif\" font-size=\"14.00\" fill=\"#000000\">humidity : numeric</text>\n",
       "<text text-anchor=\"start\" x=\"198.3105\" y=\"-56.3\" font-family=\"Times,serif\" font-size=\"14.00\" fill=\"#000000\">sunHour : numeric</text>\n",
       "<text text-anchor=\"start\" x=\"198.3105\" y=\"-42.3\" font-family=\"Times,serif\" font-size=\"14.00\" fill=\"#000000\">tempC : numeric</text>\n",
       "<text text-anchor=\"start\" x=\"198.3105\" y=\"-28.3\" font-family=\"Times,serif\" font-size=\"14.00\" fill=\"#000000\">windspeedKmph : numeric</text>\n",
       "</g>\n",
       "<!-- records&#45;&gt;weathers -->\n",
       "<g id=\"edge2\" class=\"edge\">\n",
       "<title>records&#45;&gt;weathers</title>\n",
       "<path fill=\"none\" stroke=\"#000000\" d=\"M295.7153,-179.2295C295.7153,-179.2295 295.7153,-131.7071 295.7153,-131.7071\"/>\n",
       "<polygon fill=\"#000000\" stroke=\"#000000\" points=\"299.2154,-131.707 295.7153,-121.7071 292.2154,-131.7071 299.2154,-131.707\"/>\n",
       "<text text-anchor=\"middle\" x=\"274.3325\" y=\"-158.2683\" font-family=\"Times,serif\" font-size=\"14.00\" fill=\"#000000\">country</text>\n",
       "</g>\n",
       "<!-- beds -->\n",
       "<g id=\"node4\" class=\"node\">\n",
       "<title>beds</title>\n",
       "<polygon fill=\"none\" stroke=\"#000000\" points=\"375.7485,-42.5 375.7485,-100.5 476.5073,-100.5 476.5073,-42.5 375.7485,-42.5\"/>\n",
       "<text text-anchor=\"middle\" x=\"426.1279\" y=\"-85.3\" font-family=\"Times,serif\" font-size=\"14.00\" fill=\"#000000\">beds (8 rows)</text>\n",
       "<polyline fill=\"none\" stroke=\"#000000\" points=\"375.7485,-78.5 476.5073,-78.5 \"/>\n",
       "<text text-anchor=\"start\" x=\"383.7485\" y=\"-63.3\" font-family=\"Times,serif\" font-size=\"14.00\" fill=\"#000000\">country : index</text>\n",
       "<text text-anchor=\"start\" x=\"383.7485\" y=\"-49.3\" font-family=\"Times,serif\" font-size=\"14.00\" fill=\"#000000\">icu : numeric</text>\n",
       "</g>\n",
       "<!-- records&#45;&gt;beds -->\n",
       "<g id=\"edge3\" class=\"edge\">\n",
       "<title>records&#45;&gt;beds</title>\n",
       "<path fill=\"none\" stroke=\"#000000\" d=\"M339.0305,-222C380.3437,-222 426.1279,-222 426.1279,-222 426.1279,-222 426.1279,-110.5179 426.1279,-110.5179\"/>\n",
       "<polygon fill=\"#000000\" stroke=\"#000000\" points=\"429.628,-110.5179 426.1279,-100.5179 422.628,-110.5179 429.628,-110.5179\"/>\n",
       "<text text-anchor=\"middle\" x=\"404.7451\" y=\"-212.6077\" font-family=\"Times,serif\" font-size=\"14.00\" fill=\"#000000\">country</text>\n",
       "</g>\n",
       "</g>\n",
       "</svg>\n"
      ],
      "text/plain": [
       "<graphviz.dot.Digraph at 0x11ea6a588>"
      ]
     },
     "execution_count": 5,
     "metadata": {},
     "output_type": "execute_result"
    }
   ],
   "source": [
    "es.plot()"
   ]
  },
  {
   "cell_type": "markdown",
   "metadata": {},
   "source": [
    "# Generating Features with Deep Feature Synthesis"
   ]
  },
  {
   "cell_type": "code",
   "execution_count": 6,
   "metadata": {},
   "outputs": [
    {
     "name": "stdout",
     "output_type": "stream",
     "text": [
      "Built 54 features\n",
      "Elapsed: 00:00 | Progress: 100%|██████████\n"
     ]
    }
   ],
   "source": [
    "# Generate features using the constructed entityset\n",
    "fm, features = ft.dfs(entityset=es,\n",
    "                      target_entity='records',\n",
    "                      #agg_primitives=['count', 'percent_true'],\n",
    "                      #trans_primitives=['is_weekend', 'weekday', 'day', 'month', 'year'],\n",
    "                      max_depth=3,\n",
    "                      #approximate='6h',\n",
    "                      #cutoff_time=cutoff_times[20000:],\n",
    "                      verbose=True)"
   ]
  },
  {
   "cell_type": "code",
   "execution_count": 7,
   "metadata": {},
   "outputs": [
    {
     "data": {
      "text/plain": [
       "[<Feature: beds.STD(records.deaths)>,\n",
       " <Feature: beds.MAX(records.confirmed)>,\n",
       " <Feature: beds.MAX(records.deaths)>,\n",
       " <Feature: beds.SKEW(records.confirmed)>,\n",
       " <Feature: beds.SKEW(records.deaths)>,\n",
       " <Feature: beds.MIN(records.confirmed)>,\n",
       " <Feature: beds.MIN(records.deaths)>,\n",
       " <Feature: beds.MEAN(records.confirmed)>,\n",
       " <Feature: beds.MEAN(records.deaths)>,\n",
       " <Feature: beds.COUNT(records)>]"
      ]
     },
     "execution_count": 7,
     "metadata": {},
     "output_type": "execute_result"
    }
   ],
   "source": [
    "features[-10:]   # records쪽은 label빼고는 쓸 만한 feature가 없어서 난감 ㅠㅠ "
   ]
  },
  {
   "cell_type": "markdown",
   "metadata": {},
   "source": [
    "## 억지스럽지만 deaths를 feature로, confirmed를 label로 하는 정도로 학습해 보자"
   ]
  },
  {
   "cell_type": "code",
   "execution_count": 8,
   "metadata": {},
   "outputs": [
    {
     "data": {
      "text/plain": [
       "Index(['deaths', 'countries.population', 'countries.density',\n",
       "       'countries.fertility', 'countries.age', 'countries.urban_percentage',\n",
       "       'countries.lat', 'countries.long', 'weathers.humidity',\n",
       "       'weathers.sunHour', 'weathers.tempC', 'weathers.windspeedKmph',\n",
       "       'beds.icu', 'countries.SUM(records.deaths)',\n",
       "       'countries.STD(records.deaths)', 'countries.MAX(records.deaths)',\n",
       "       'countries.SKEW(records.deaths)', 'countries.MIN(records.deaths)',\n",
       "       'countries.MEAN(records.deaths)', 'countries.COUNT(records)',\n",
       "       'weathers.SUM(records.deaths)', 'weathers.STD(records.deaths)',\n",
       "       'weathers.MAX(records.deaths)', 'weathers.SKEW(records.deaths)',\n",
       "       'weathers.MIN(records.deaths)', 'weathers.MEAN(records.deaths)',\n",
       "       'weathers.COUNT(records)', 'beds.SUM(records.deaths)',\n",
       "       'beds.STD(records.deaths)', 'beds.MAX(records.deaths)',\n",
       "       'beds.SKEW(records.deaths)', 'beds.MIN(records.deaths)',\n",
       "       'beds.MEAN(records.deaths)', 'beds.COUNT(records)'],\n",
       "      dtype='object')"
      ]
     },
     "execution_count": 8,
     "metadata": {},
     "output_type": "execute_result"
    }
   ],
   "source": [
    "selected_columns = [column for column in fm.columns if 'confirmed' not in column and column != 'country']\n",
    "\n",
    "y = fm[[\"confirmed\"]]\n",
    "X = fm[selected_columns]\n",
    "X.columns"
   ]
  },
  {
   "cell_type": "code",
   "execution_count": 9,
   "metadata": {},
   "outputs": [
    {
     "name": "stdout",
     "output_type": "stream",
     "text": [
      "Cross Validation of Confirmed Cases: Mean = 0.8747742987448761, std = 0.036354425838695345\n",
      "Validation Infected set RMSLE: 0.8768648281578775\n"
     ]
    }
   ],
   "source": [
    "from sklearn.preprocessing import StandardScaler\n",
    "from sklearn.model_selection import train_test_split as tts\n",
    "from sklearn.model_selection import cross_val_score\n",
    "from sklearn.linear_model import Lasso\n",
    "from sklearn.tree import DecisionTreeRegressor\n",
    "from sklearn.metrics import mean_squared_log_error, make_scorer\n",
    "\n",
    "# 평가 척도 함수 정의\n",
    "def rmsle(y_true, y_pred):\n",
    "    \"\"\"\n",
    "    Computes the Root Mean Squared Logarithmic Error of a prediction set.\n",
    "    params:\n",
    "        y_true: numpy array of ground truth\n",
    "        y_pred: numpy array of predictions\n",
    "    \"\"\"\n",
    "    return np.sqrt(mean_squared_log_error(y_true, y_pred))\n",
    "rmsle_scorer = make_scorer(rmsle)\n",
    "\n",
    "# Split into training and evaluation data:\n",
    "X_train, X_val, y_train, y_val = tts(X, y, test_size= 0.2, random_state=42, shuffle=True)\n",
    "\n",
    "\n",
    "# 확진자수 예측 모델 학습/평가\n",
    "model_infected = DecisionTreeRegressor(random_state=42, criterion=\"mae\")\n",
    "scores = cross_val_score(model_infected, X_train,y_train[\"confirmed\"], cv=5, scoring=rmsle_scorer)\n",
    "\n",
    "print(\"Cross Validation of Confirmed Cases: Mean = {}, std = {}\".format(scores.mean(), scores.std()))\n",
    "model_infected.fit(X_train, y_train[\"confirmed\"])\n",
    "result_infected = rmsle(y_val[\"confirmed\"], model_infected.predict(X_val))\n",
    "print(\"Validation Infected set RMSLE: {}\".format(result_infected))\n"
   ]
  },
  {
   "cell_type": "markdown",
   "metadata": {},
   "source": [
    "# 주요 feature 도식화 "
   ]
  },
  {
   "cell_type": "code",
   "execution_count": 10,
   "metadata": {},
   "outputs": [
    {
     "data": {
      "image/png": "[encoded data removed]",
      "text/plain": [
       "<Figure size 720x360 with 1 Axes>"
      ]
     },
     "metadata": {},
     "output_type": "display_data"
    }
   ],
   "source": [
    "utils.show_feature_importance(X_train,model_infected)"
   ]
  },
  {
   "cell_type": "code",
   "execution_count": null,
   "metadata": {},
   "outputs": [],
   "source": []
  }
 ],
 "metadata": {
  "kernelspec": {
   "display_name": "Python (ai)",
   "language": "python",
   "name": "ai"
  },
  "language_info": {
   "codemirror_mode": {
    "name": "ipython",
    "version": 3
   },
   "file_extension": ".py",
   "mimetype": "text/x-python",
   "name": "python",
   "nbconvert_exporter": "python",
   "pygments_lexer": "ipython3",
   "version": "3.6.6"
  },
  "varInspector": {
   "cols": {
    "lenName": 16,
    "lenType": 16,
    "lenVar": 40
   },
   "kernels_config": {
    "python": {
     "delete_cmd_postfix": "",
     "delete_cmd_prefix": "del ",
     "library": "var_list.py",
     "varRefreshCmd": "print(var_dic_list())"
    },
    "r": {
     "delete_cmd_postfix": ") ",
     "delete_cmd_prefix": "rm(",
     "library": "var_list.r",
     "varRefreshCmd": "cat(var_dic_list()) "
    }
   },
   "types_to_exclude": [
    "module",
    "function",
    "builtin_function_or_method",
    "instance",
    "_Feature"
   ],
   "window_display": false
  }
 },
 "nbformat": 4,
 "nbformat_minor": 2
}
